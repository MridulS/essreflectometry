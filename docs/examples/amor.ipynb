{
 "cells": [
  {
   "cell_type": "markdown",
   "metadata": {},
   "source": [
    "# Divergent data reduction for Amor\n",
    "\n",
    "In this notebook, we will look at how to use the `essreflectometry` package with Sciline, for reflectometry data collected from the PSI instrument [Amor](https://www.psi.ch/en/sinq/amor) in [divergent beam mode](https://www.psi.ch/en/sinq/amor/selene).\n",
    "\n",
    "We will begin by importing the modules that are necessary for this notebook."
   ]
  },
  {
   "cell_type": "code",
   "execution_count": null,
   "metadata": {},
   "outputs": [],
   "source": [
    "import scipp as sc\n",
    "import sciline\n",
    "from essreflectometry.amor import providers, default_parameters\n",
    "from essreflectometry.types import *"
   ]
  },
  {
   "cell_type": "code",
   "execution_count": null,
   "metadata": {},
   "outputs": [],
   "source": [
    "params = {\n",
    "    **default_parameters,\n",
    "    QBins: sc.geomspace(dim='Q', start=0.008, stop=0.075, num=200, unit='1/angstrom'),\n",
    "    SampleRotation[Sample]: sc.scalar(0.7989, unit='deg'),\n",
    "    Filename[Sample]: \"sample.nxs\",\n",
    "    SampleRotation[Reference]: sc.scalar(0.8389, unit='deg'),\n",
    "    Filename[Reference]: \"reference.nxs\",\n",
    "    WavelengthEdges: sc.array(dims=['wavelength'], values=[2.4, 16.0], unit='angstrom'),\n",
    "}"
   ]
  },
  {
   "cell_type": "code",
   "execution_count": null,
   "metadata": {},
   "outputs": [],
   "source": [
    "pipeline = sciline.Pipeline(\n",
    "    providers,\n",
    "    params=params\n",
    ")"
   ]
  },
  {
   "cell_type": "code",
   "execution_count": null,
   "metadata": {},
   "outputs": [],
   "source": [
    "pipeline.visualize((NormalizedIofQ, QResolution), graph_attr={'rankdir': 'LR'})"
   ]
  },
  {
   "cell_type": "code",
   "execution_count": null,
   "metadata": {},
   "outputs": [],
   "source": [
    "# Compute I over Q and the standard deviation of Q\n",
    "ioq, qstd = pipeline.compute((NormalizedIofQ, QResolution)).values()"
   ]
  },
  {
   "cell_type": "code",
   "execution_count": null,
   "metadata": {},
   "outputs": [],
   "source": [
    "import matplotlib.pyplot as plt\n",
    "\n",
    "fig = plt.figure(figsize=(5, 7))\n",
    "ax1 = fig.add_axes([0, 0.55, 1.0, 0.45])\n",
    "ax2 = fig.add_axes([0, 0.0, 1.0, 0.45])\n",
    "cax = fig.add_axes([1.05, 0.55, 0.03, 0.45])\n",
    "fig1 = ioq.plot(norm='log', ax=ax1, cax=cax, grid=True)\n",
    "fig2 = ioq.mean('detector_number').plot(norm='log', ax=ax2, grid=True)\n",
    "fig1.canvas.xrange = fig2.canvas.xrange"
   ]
  },
  {
   "cell_type": "markdown",
   "metadata": {},
   "source": [
    "## Make a $(\\lambda, \\theta)$ map\n",
    "A good sanity check is to create a two-dimensional map of the counts in $\\lambda$ and $\\theta$ bins. To achieve this, we request the `ThetaData` from the pipeline. In the graph above we can see that `WavelengthData` is required to compute `ThetaData`, therefore it is also present in `ThetaData` so we don't need to require it separately."
   ]
  },
  {
   "cell_type": "code",
   "execution_count": null,
   "metadata": {},
   "outputs": [],
   "source": [
    "from essreflectometry.types import ThetaData\n",
    "pipeline.compute(ThetaData[Sample])\\\n",
    "    .bins.concat('detector_number')\\\n",
    "    .hist(\n",
    "        theta=sc.linspace(dim='theta', start=0.0, stop=1.2, num=165, unit='deg').to(unit='rad'),\n",
    "        wavelength=sc.linspace(dim='wavelength', start=0, stop=15.0, num=165, unit='angstrom'),\n",
    "    )\\\n",
    "    .plot()\n"
   ]
  },
  {
   "cell_type": "markdown",
   "metadata": {},
   "source": [
    "This plot can be used to check if the value of the sample rotation angle $\\omega$ is correct. The bright triangles should be pointing back to the origin $\\lambda = \\theta = 0$."
   ]
  },
  {
   "cell_type": "markdown",
   "metadata": {},
   "source": [
    "## Save data\n",
    "\n",
    "We can save the computed $I(Q)$ to an [ORSO](https://www.reflectometry.org) [.ort](https://github.com/reflectivity/file_format/blob/master/specification.md) file.\n",
    "\n",
    "First, we need to collect the metadata for that file.\n"
   ]
  },
  {
   "cell_type": "code",
   "execution_count": null,
   "metadata": {},
   "outputs": [],
   "source": [
    "from essreflectometry import orso\n",
    "from essreflectometry.amor import orso as amor_orso\n",
    "from essreflectometry.io import save_iofq_ort\n",
    "from orsopy.fileio.base import Person"
   ]
  },
  {
   "cell_type": "code",
   "execution_count": null,
   "metadata": {},
   "outputs": [],
   "source": [
    "providers_with_metadata = (\n",
    "    *providers,\n",
    "    *orso.providers,\n",
    "    *amor_orso.providers,\n",
    ")\n",
    "\n",
    "params[orso.OrsoCreator] = orso.OrsoCreator(Person(\n",
    "    name='Max Mustermann',\n",
    "    affiliation='European Spallation Source ERIC',\n",
    "    contact='max.mustermann@ess.eu',\n",
    "))\n",
    "\n",
    "metadata_pipeline = sciline.Pipeline(\n",
    "    providers_with_metadata,\n",
    "    params=params\n",
    ")"
   ]
  },
  {
   "cell_type": "code",
   "execution_count": null,
   "metadata": {},
   "outputs": [],
   "source": [
    "results = metadata_pipeline.compute((NormalizedIofQ, QResolution, orso.OrsoDataSource, orso.OrsoReduction))"
   ]
  },
  {
   "cell_type": "code",
   "execution_count": null,
   "metadata": {},
   "outputs": [],
   "source": [
    "results[orso.OrsoDataSource]"
   ]
  },
  {
   "cell_type": "code",
   "execution_count": null,
   "metadata": {},
   "outputs": [],
   "source": [
    "iofq = results[NormalizedIofQ].mean('detector_number')"
   ]
  },
  {
   "cell_type": "code",
   "execution_count": null,
   "metadata": {},
   "outputs": [],
   "source": [
    "ds = results[orso.OrsoDataSource]\n",
    "ds.measurement.instrument_settings.incident_angle.min = 1.0\n",
    "ds.measurement.instrument_settings.incident_angle.max = 2.0\n",
    "ds.measurement.instrument_settings.wavelength.min = 1.0\n",
    "ds.measurement.instrument_settings.wavelength.max = 2.0"
   ]
  },
  {
   "cell_type": "code",
   "execution_count": null,
   "metadata": {},
   "outputs": [],
   "source": [
    "save_iofq_ort(\n",
    "    filename='amor_reduced_iofq.ort',\n",
    "    iofq=iofq,\n",
    "    sigma_q=results[QResolution],\n",
    "    data_source=results[orso.OrsoDataSource],\n",
    "    reduction=results[orso.OrsoReduction],\n",
    ")"
   ]
  },
  {
   "cell_type": "code",
   "execution_count": null,
   "metadata": {},
   "outputs": [],
   "source": [
    "!head amor_reduced_iofq.ort"
   ]
  }
 ],
 "metadata": {
  "kernelspec": {
   "display_name": "Python 3 (ipykernel)",
   "language": "python",
   "name": "python3"
  },
  "language_info": {
   "codemirror_mode": {
    "name": "ipython",
    "version": 3
   },
   "file_extension": ".py",
   "mimetype": "text/x-python",
   "name": "python",
   "nbconvert_exporter": "python",
   "pygments_lexer": "ipython3",
   "version": "3.10.13"
  }
 },
 "nbformat": 4,
 "nbformat_minor": 4
}
