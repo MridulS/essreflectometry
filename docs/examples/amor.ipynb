{
 "cells": [
  {
   "cell_type": "markdown",
   "metadata": {},
   "source": [
    "# Divergent data reduction for Amor\n",
    "\n",
    "In this notebook, we will look at how to use the `essreflectometry` package with Sciline, for reflectometry data collected from the PSI instrument [Amor](https://www.psi.ch/en/sinq/amor) in [divergent beam mode](https://www.psi.ch/en/sinq/amor/selene).\n",
    "\n",
    "We will begin by importing the modules that are necessary for this notebook."
   ]
  },
  {
   "cell_type": "markdown",
   "metadata": {},
   "source": [
    "## Setup"
   ]
  },
  {
   "cell_type": "code",
   "execution_count": null,
   "metadata": {},
   "outputs": [],
   "source": [
    "import scipp as sc\n",
    "import sciline\n",
    "from ess import amor\n",
    "from ess.reflectometry.types import *"
   ]
  },
  {
   "cell_type": "code",
   "execution_count": null,
   "metadata": {},
   "outputs": [],
   "source": [
    "pl = sciline.Pipeline(\n",
    "    (*amor.providers, *amor.data.providers), params=amor.default_parameters\n",
    ")\n"
   ]
  },
  {
   "cell_type": "code",
   "execution_count": null,
   "metadata": {},
   "outputs": [],
   "source": [
    "pl[amor.Chopper1Position[Sample]] = sc.vector(value=[0, 0, -14.842-.500], unit='m')\n",
    "pl[amor.Chopper2Position[Sample]] = sc.vector(value=[0, 0, -14.842+.500], unit='m')\n",
    "pl[amor.Chopper1Position[Reference]] = sc.vector(value=[0, 0, -14.842-.500], unit='m')\n",
    "pl[amor.Chopper2Position[Reference]] = sc.vector(value=[0, 0, -14.842+.500], unit='m')\n",
    "\n",
    "# Large values disable footprint correction\n",
    "pl[SampleSize[Sample]] = sc.scalar(10000., unit='mm')\n",
    "pl[SampleSize[Reference]] = sc.scalar(10000., unit='mm')\n",
    "\n",
    "pl[amor.ChopperPhase[Sample]] = sc.scalar(-5., unit='deg')\n",
    "pl[amor.ChopperPhase[Reference]] = sc.scalar(-5, unit='deg')\n",
    "\n",
    "pl[amor.ChopperFrequency[Sample]] = sc.scalar(8.333, unit='Hz')\n",
    "pl[amor.ChopperFrequency[Reference]] = sc.scalar(8.333, unit='Hz')\n",
    "\n",
    "#pl[SampleRotation[Sample]] = sc.scalar(5.05, unit='deg')\n",
    "#pl[DetectorRotation[Sample]] = sc.scalar(10.21, unit='degree')\n",
    "#pl[PoochFilename[Sample]] = \"amor2023n000611.hdf\"\n",
    "#pl[QBins] = sc.geomspace(dim='Q', start=0.005, stop=0.3, num=400, unit='1/angstrom')\n",
    "\n",
    "pl[SampleRotation[Sample]] = sc.scalar(0.85, unit='deg')\n",
    "pl[DetectorRotation[Sample]] = sc.scalar(1.8, unit='degree')\n",
    "pl[PoochFilename[Sample]] = \"amor2023n000608.hdf\"\n",
    "pl[QBins] = sc.geomspace(dim='Q', start=0.005, stop=0.115, num=300, unit='1/angstrom')\n",
    "\n",
    "pl[SampleRotation[Reference]] = sc.scalar(0.65, unit='deg')\n",
    "pl[DetectorRotation[Reference]] = sc.scalar(1.4, unit='degree')\n",
    "pl[PoochFilename[Reference]] = \"amor2023n000614.hdf\"\n",
    "\n",
    "pl[NeXusDetectorName[Run]] = 'detector'\n",
    "\n",
    "pl[WBins] = sc.geomspace('wavelength', 2.8, 12, 300, unit='angstrom')\n",
    "\n",
    "pl[YIndexLimits] =  sc.scalar(11, unit=None), sc.scalar(41, unit=None)\n",
    "pl[ZIndexLimits] =  sc.scalar(80, unit=None), sc.scalar(370, unit=None)"
   ]
  },
  {
   "cell_type": "code",
   "execution_count": null,
   "metadata": {},
   "outputs": [],
   "source": [
    "pl.visualize(NormalizedIofQ, graph_attr={'rankdir': 'LR'})"
   ]
  },
  {
   "cell_type": "code",
   "execution_count": null,
   "metadata": {},
   "outputs": [],
   "source": [
    "pl.compute(NormalizedIofQ).hist().plot(norm='log')"
   ]
  },
  {
   "cell_type": "markdown",
   "metadata": {},
   "source": [
    "## Make a $(\\lambda, \\theta)$ map\n",
    "A good sanity check is to create a two-dimensional map of the counts in $\\lambda$ and $\\theta$ bins. To achieve this, we request the `ThetaData` from the pipeline. In the graph above we can see that `WavelengthData` is required to compute `ThetaData`, therefore it is also present in `ThetaData` so we don't need to require it separately."
   ]
  },
  {
   "cell_type": "code",
   "execution_count": null,
   "metadata": {},
   "outputs": [],
   "source": [
    "pl.compute(FootprintCorrectedData[Reference])\\\n",
    "    .hist(\n",
    "        theta=32*14,\n",
    "        wavelength=pl.compute(WBins),\n",
    "    )\\\n",
    "    .plot()"
   ]
  },
  {
   "cell_type": "code",
   "execution_count": null,
   "metadata": {},
   "outputs": [],
   "source": [
    "da = pl.compute(FootprintCorrectedData[Sample])\\\n",
    "    .hist(\n",
    "        theta=32*14,\n",
    "        wavelength=pl.compute(WBins),\n",
    "    )\n",
    "p = da.plot()\n",
    "p.canvas.xrange = [0, None]\n",
    "p.canvas.yrange = [0, None]\n",
    "# Lines only fitting for sample ...608\n",
    "p.ax.plot((0, 10), (sc.scalar(0), sc.scalar(0.027)))\n",
    "p.ax.plot((0, 5.8), (sc.scalar(0), sc.scalar(0.027)))\n",
    "p"
   ]
  },
  {
   "cell_type": "markdown",
   "metadata": {},
   "source": [
    "This plot can be used to check if the value of the sample rotation angle $\\omega$ is correct. The bright triangles should be pointing back to the origin $\\lambda = \\theta = 0$."
   ]
  },
  {
   "cell_type": "markdown",
   "metadata": {},
   "source": [
    "## Save data\n",
    "\n",
    "We can save the computed $I(Q)$ to an [ORSO](https://www.reflectometry.org) [.ort](https://github.com/reflectivity/file_format/blob/master/specification.md) file using the [orsopy](https://orsopy.readthedocs.io/en/latest/index.html) package.\n",
    "\n",
    "First, we need to collect the metadata for that file.\n",
    "To this end, we build a pipeline with additional providers.\n",
    "We also insert a parameter to indicate the creator of the processed data."
   ]
  },
  {
   "cell_type": "code",
   "execution_count": null,
   "metadata": {},
   "outputs": [],
   "source": [
    "from ess.reflectometry import orso\n",
    "from orsopy import fileio"
   ]
  },
  {
   "cell_type": "code",
   "execution_count": null,
   "metadata": {},
   "outputs": [],
   "source": [
    "for p in (*orso.providers, *amor.orso.providers):\n",
    "    pl.insert(p)\n",
    "\n",
    "pl[orso.OrsoCreator] = orso.OrsoCreator(\n",
    "    fileio.base.Person(\n",
    "        name='Max Mustermann',\n",
    "        affiliation='European Spallation Source ERIC',\n",
    "        contact='max.mustermann@ess.eu',\n",
    "    )\n",
    ")"
   ]
  },
  {
   "cell_type": "markdown",
   "metadata": {},
   "source": [
    "Then, we recompute $I(Q)$ and and combine it with the ORSO metadata:"
   ]
  },
  {
   "cell_type": "code",
   "execution_count": null,
   "metadata": {},
   "outputs": [],
   "source": [
    "iofq_dataset = pl.compute(orso.OrsoIofQDataset)"
   ]
  },
  {
   "cell_type": "markdown",
   "metadata": {},
   "source": [
    "Unfortunately, some metadata could not be determined automatically.\n",
    "In particular, we need to specify the sample manually:"
   ]
  },
  {
   "cell_type": "code",
   "execution_count": null,
   "metadata": {},
   "outputs": [],
   "source": [
    "iofq_dataset.info.data_source.sample"
   ]
  },
  {
   "cell_type": "code",
   "execution_count": null,
   "metadata": {},
   "outputs": [],
   "source": [
    "iofq_dataset.info.data_source.sample = fileio.data_source.Sample(\n",
    "    name='Ni / Ti Multilayer',\n",
    "    model=fileio.data_source.SampleModel(\n",
    "        stack='air | (Ni | Ti) * 5 | Si',\n",
    "    ),\n",
    ")"
   ]
  },
  {
   "cell_type": "markdown",
   "metadata": {},
   "source": [
    "And we also add the URL of this notebook to make it easier to reproduce the data:"
   ]
  },
  {
   "cell_type": "code",
   "execution_count": null,
   "metadata": {},
   "outputs": [],
   "source": [
    "iofq_dataset.info.reduction.script = (\n",
    "    'https://scipp.github.io/essreflectometry/examples/amor.html'\n",
    ")"
   ]
  },
  {
   "cell_type": "markdown",
   "metadata": {},
   "source": [
    "To support tracking provenance, we also list the corrections that were done by the workflow and store them in the dataset:"
   ]
  },
  {
   "cell_type": "code",
   "execution_count": null,
   "metadata": {},
   "outputs": [],
   "source": [
    "iofq_dataset.info.reduction.corrections = orso.find_corrections(\n",
    "    pl.get(orso.OrsoIofQDataset)\n",
    ")"
   ]
  },
  {
   "cell_type": "markdown",
   "metadata": {},
   "source": [
    "Finally, we can save the data to a file.\n",
    "Note that `iofq_dataset` is an [orsopy.fileio.orso.OrsoDataset](https://orsopy.readthedocs.io/en/latest/orsopy.fileio.orso.html#orsopy.fileio.orso.OrsoDataset)."
   ]
  },
  {
   "cell_type": "code",
   "execution_count": null,
   "metadata": {},
   "outputs": [],
   "source": [
    "iofq_dataset.save('amor_reduced_iofq.ort')"
   ]
  },
  {
   "cell_type": "markdown",
   "metadata": {},
   "source": [
    "Look at the first 50 lines of the file to inspect the metadata:"
   ]
  },
  {
   "cell_type": "code",
   "execution_count": null,
   "metadata": {},
   "outputs": [],
   "source": [
    "!head amor_reduced_iofq.ort -n50"
   ]
  }
 ],
 "metadata": {
  "kernelspec": {
   "display_name": "Python 3 (ipykernel)",
   "language": "python",
   "name": "python3"
  },
  "language_info": {
   "codemirror_mode": {
    "name": "ipython",
    "version": 3
   },
   "file_extension": ".py",
   "mimetype": "text/x-python",
   "name": "python",
   "nbconvert_exporter": "python",
   "pygments_lexer": "ipython3",
   "version": "3.10.13"
  }
 },
 "nbformat": 4,
 "nbformat_minor": 4
}
