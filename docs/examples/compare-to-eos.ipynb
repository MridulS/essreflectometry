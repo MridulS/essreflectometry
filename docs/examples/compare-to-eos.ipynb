{
 "cells": [
  {
   "cell_type": "code",
   "execution_count": null,
   "id": "9aaa5e0c-def6-4da5-9f63-b4c72a0de8f1",
   "metadata": {},
   "outputs": [],
   "source": [
    "import orsopy\n",
    "import matplotlib.pyplot as plt\n",
    "\n",
    "import scipp as sc\n",
    "import sciline\n",
    "from ess import amor\n",
    "from ess.reflectometry.types import *\n",
    "from ess.amor.types import ChopperPhase"
   ]
  },
  {
   "cell_type": "markdown",
   "id": "f9f28ab3-b9fd-4cfd-88bd-d290ea5cdf4f",
   "metadata": {},
   "source": [
    "## Recreate reference files using Jochens Amor data reduction software\n",
    "\n",
    "#### step 1\n",
    "```\n",
    "%%bash\n",
    "git clone https://github.com/jochenstahn/amor.git\n",
    "wget -P raw https://public.esss.dk/groups/scipp/ess/amor/1/amor2023n000{608..614}.hdf\n",
    "```\n",
    "\n",
    "#### step 2\n",
    "```\n",
    "%%bash\n",
    "args='-Y 2023 -d raw -n 614 -m 0.05 -co -7.5 -of ort'\n",
    "\n",
    "rm raw/614.norm\n",
    "python amor/neos.py $args -f 614\n",
    "\n",
    "for i in `seq 608 613`\n",
    "do\n",
    "    python amor/neos.py $args -f $i -o $i $args \n",
    "done\n",
    "```"
   ]
  },
  {
   "cell_type": "markdown",
   "id": "a1d7fc35-d958-44ce-83a5-b8d877c47735",
   "metadata": {},
   "source": [
    "## Run essreflectometry on the same files"
   ]
  },
  {
   "cell_type": "code",
   "execution_count": null,
   "id": "fccf8385-b2ec-4c14-990f-9083a89f46a2",
   "metadata": {},
   "outputs": [],
   "source": [
    "pl = sciline.Pipeline(\n",
    "    (*amor.providers, *amor.data.providers),\n",
    "    params=amor.default_parameters,\n",
    ")\n",
    "\n",
    "pl[SampleSize[Sample]] = sc.scalar(10., unit='mm')\n",
    "pl[SampleSize[Reference]] = sc.scalar(10., unit='mm')\n",
    "\n",
    "# In Jochens workflow:\n",
    "#    * divergence mask: [-0.7, 0.7]\n",
    "#    * note, divergence relative to beam center\n",
    "pl[WavelengthBins] = sc.geomspace('wavelength', 2.8, 12.5, 300, unit='angstrom')\n",
    "pl[YIndexLimits] =  sc.scalar(11, unit=None), sc.scalar(41, unit=None)\n",
    "pl[ZIndexLimits] =  sc.scalar(80, unit=None), sc.scalar(370, unit=None)\n",
    "\n",
    "# Chopper phase value in the file is wrong, so we set it manually\n",
    "pl[ChopperPhase[Reference]] = sc.scalar(-7.5, unit='deg')\n",
    "# The sample rotation value in the file is slightly off, so we set it manually\n",
    "pl[SampleRotation[Reference]] = sc.scalar(0.65, unit='deg')\n",
    "pl[PoochFilename[Reference]] = \"amor2023n000614.hdf\"\n",
    "\n",
    "from ess.reflectometry import orso\n",
    "for p in (*orso.providers, *amor.orso.providers):\n",
    "    pl.insert(p)\n",
    "\n",
    "pl[orso.OrsoCreator] = orso.OrsoCreator(\n",
    "    orsopy.fileio.base.Person(\n",
    "        name='Max Mustermann',\n",
    "        affiliation='European Spallation Source ERIC',\n",
    "        contact='max.mustermann@ess.eu',\n",
    "    )\n",
    ")\n",
    "pl[orso.OrsoSample] = orsopy.fileio.data_source.Sample(\n",
    "    name='Ni / Ti Multilayer',\n",
    "    model=orsopy.fileio.data_source.SampleModel(\n",
    "        stack='air | (Ni | Ti) * 5 | Si',\n",
    "    ),\n",
    ")"
   ]
  },
  {
   "cell_type": "code",
   "execution_count": null,
   "id": "5fa88e48-c7bd-4637-b0a5-746316dd71ac",
   "metadata": {},
   "outputs": [],
   "source": [
    "from ess.reflectometry import save_reference, load_reference\n",
    "\n",
    "pl[ReferenceFilePath] = save_reference(pl, './reference.hdf5')\n",
    "pl.insert(load_reference)"
   ]
  },
  {
   "cell_type": "code",
   "execution_count": null,
   "id": "5a220b29-5115-4594-9c75-ed0f34be74f7",
   "metadata": {},
   "outputs": [],
   "source": [
    "pl[QBins] = sc.geomspace(dim='Q', start=0.00505, stop=2.93164766e-01, num=391, unit='1/angstrom')\n",
    "\n",
    "mu = {\n",
    "    608: 0.8,\n",
    "    609: 2.2,\n",
    "    610: 3.6,\n",
    "    611: 5.0,\n",
    "    612: 0.6,\n",
    "    613: 0.6,\n",
    "}\n",
    "\n",
    "for i in range(608, 614):\n",
    "    print(i, '...', end='')\n",
    "    pl[ChopperPhase[Sample]] = sc.scalar(-7.5, unit='deg')\n",
    "    pl[SampleRotation[Sample]] = sc.scalar(mu[i] + 0.05, unit='deg')\n",
    "    pl[PoochFilename[Sample]] = f\"amor2023n000{i}.hdf\"\n",
    "    pl.compute(orso.OrsoIofQDataset).save(f'raw/ess-{i}.ort')\n",
    "    print('Done!')\n"
   ]
  },
  {
   "cell_type": "markdown",
   "id": "64b685cb-654e-46a5-9eae-b9bf76dadb8d",
   "metadata": {},
   "source": [
    "## Plot reflectivity curve comparison"
   ]
  },
  {
   "cell_type": "code",
   "execution_count": null,
   "id": "8e248ada-0db0-4e9e-a208-64e2ff74c7bb",
   "metadata": {},
   "outputs": [],
   "source": [
    "fig, axs = plt.subplots(3, 2, figsize=(12, 12))\n",
    "\n",
    "for ax, i in zip(axs.ravel(), range(608, 614)):\n",
    "\n",
    "    d = orsopy.fileio.load_orso(amor.data.get_path(f'{i}.Rqz.ort'))[0].data\n",
    "    ax.errorbar(d[:, 0], d[:, 1], yerr=d[:, 2], label='PSI Amor software')\n",
    "\n",
    "    d = orsopy.fileio.load_orso(f'raw/ess-{i}.ort')[0].data\n",
    "    d[d[:, 1] == 0, 1:3] = float('nan')\n",
    "    ax.errorbar(d[:, 0], d[:, 1], yerr=d[:, 2], label='ESS Reflectometry')\n",
    "    ax.set_yscale('log')\n",
    "    ax.set_ylim([1e-4, None])\n",
    "    ax.legend()\n",
    "    ax.set_title(f'amor2023n000{i}')\n",
    "    ax.set_xlabel('Q [1/A]')\n",
    "    ax.set_ylabel('Reflectivity')\n",
    "\n",
    "plt.tight_layout()\n",
    "plt.savefig('comparison.png')"
   ]
  },
  {
   "cell_type": "markdown",
   "id": "9d97eff4-77cf-4ea1-8be7-1390bebfcb84",
   "metadata": {},
   "source": [
    "## Overlay curves from same sample at different angle, should be on top of each other"
   ]
  },
  {
   "cell_type": "code",
   "execution_count": null,
   "id": "4758e245-c47a-454c-9788-97b05b49f356",
   "metadata": {},
   "outputs": [],
   "source": [
    "fig, axs = plt.subplots(1, 2, figsize=(12, 4))\n",
    "\n",
    "for ax, facility, fname in zip(axs.ravel(), ('PSI Amor', 'ESSreflectometry'), ('{i}.Rqz.ort', 'raw/ess-{i}.ort')):\n",
    "    for i in range(608, 612):\n",
    "\n",
    "        d = orsopy.fileio.load_orso(amor.data.get_path(fname.format(i=i)) if facility.startswith('PSI') else fname.format(i=i))[0].data\n",
    "        d[d[:, 1] == 0, 1:3] = float('nan')\n",
    "        ax.errorbar(d[:, 0], d[:, 1], yerr=d[:, 2], label=f'{i}')\n",
    "    \n",
    "    ax.set_yscale('log')\n",
    "    ax.set_ylim([1e-4, None])\n",
    "    ax.legend()\n",
    "    ax.set_title(facility)\n",
    "    ax.set_xlabel('Q [1/A]')\n",
    "    ax.set_ylabel('Reflectivity')\n"
   ]
  }
 ],
 "metadata": {
  "kernelspec": {
   "display_name": "Python 3 (ipykernel)",
   "language": "python",
   "name": "python3"
  },
  "language_info": {
   "codemirror_mode": {
    "name": "ipython",
    "version": 3
   },
   "file_extension": ".py",
   "mimetype": "text/x-python",
   "name": "python",
   "nbconvert_exporter": "python",
   "pygments_lexer": "ipython3",
   "version": "3.10.13"
  }
 },
 "nbformat": 4,
 "nbformat_minor": 5
}
