{
 "cells": [
  {
   "cell_type": "code",
   "execution_count": null,
   "id": "9aaa5e0c-def6-4da5-9f63-b4c72a0de8f1",
   "metadata": {},
   "outputs": [],
   "source": [
    "import orsopy\n",
    "import matplotlib.pyplot as plt\n",
    "\n",
    "import scipp as sc\n",
    "import sciline\n",
    "from ess import amor\n",
    "from ess.reflectometry.types import *\n",
    "from ess.amor.utils import ThetaBins, theta_grid"
   ]
  },
  {
   "cell_type": "code",
   "execution_count": null,
   "id": "465f0c65-1305-4564-abe2-d70a0416a40d",
   "metadata": {},
   "outputs": [],
   "source": [
    "!git clone https://github.com/jochenstahn/amor.git"
   ]
  },
  {
   "cell_type": "code",
   "execution_count": null,
   "id": "3c8b923f-e876-48c0-85ba-d22b016e0f14",
   "metadata": {},
   "outputs": [],
   "source": [
    "%%bash\n",
    "python amor/neos.py -Y 2023  -d raw -n 614 -f 614 -mu 0.65\n",
    "\n",
    "python amor/neos.py -Y 2023  -d raw -n 614 -f 608 -o 608\n",
    "python amor/neos.py -Y 2023  -d raw -n 614 -f 609 -o 609\n",
    "python amor/neos.py -Y 2023  -d raw -n 614 -f 610 -o 610\n",
    "python amor/neos.py -Y 2023  -d raw -n 614 -f 611 -o 611\n",
    "python amor/neos.py -Y 2023  -d raw -n 614 -f 612 -o 612\n",
    "python amor/neos.py -Y 2023  -d raw -n 614 -f 613 -o 613"
   ]
  },
  {
   "cell_type": "code",
   "execution_count": null,
   "id": "fccf8385-b2ec-4c14-990f-9083a89f46a2",
   "metadata": {},
   "outputs": [],
   "source": [
    "pl = sciline.Pipeline(\n",
    "    (*amor.providers, *amor.data.providers, theta_grid),\n",
    "    params=amor.default_parameters,\n",
    ")\n",
    "\n",
    "# Large values disable footprint correction\n",
    "pl[SampleSize[Sample]] = sc.scalar(10., unit='mm')\n",
    "pl[SampleSize[Reference]] = sc.scalar(10., unit='mm')\n",
    "\n",
    "pl[WavelengthBins] = sc.geomspace('wavelength', 2.8, 12, 300, unit='angstrom')\n",
    "pl[YIndexLimits] =  sc.scalar(11, unit=None), sc.scalar(41, unit=None)\n",
    "pl[ZIndexLimits] =  sc.scalar(80, unit=None), sc.scalar(370, unit=None)\n",
    "\n",
    "# The sample rotation value in the file is slightly off, so we set it manually\n",
    "pl[SampleRotation[Reference]] = sc.scalar(0.65, unit='deg')\n",
    "pl[PoochFilename[Reference]] = \"amor2023n000614.hdf\"\n",
    "\n",
    "from ess.reflectometry import orso\n",
    "for p in (*orso.providers, *amor.orso.providers):\n",
    "    pl.insert(p)\n",
    "\n",
    "pl[orso.OrsoCreator] = orso.OrsoCreator(\n",
    "    orsopy.fileio.base.Person(\n",
    "        name='Max Mustermann',\n",
    "        affiliation='European Spallation Source ERIC',\n",
    "        contact='max.mustermann@ess.eu',\n",
    "    )\n",
    ")\n",
    "pl[orso.OrsoSample] = orsopy.fileio.data_source.Sample(\n",
    "    name='Ni / Ti Multilayer',\n",
    "    model=orsopy.fileio.data_source.SampleModel(\n",
    "        stack='air | (Ni | Ti) * 5 | Si',\n",
    "    ),\n",
    ")"
   ]
  },
  {
   "cell_type": "code",
   "execution_count": null,
   "id": "5fa88e48-c7bd-4637-b0a5-746316dd71ac",
   "metadata": {},
   "outputs": [],
   "source": [
    "from ess.reflectometry import save_reference, load_reference\n",
    "\n",
    "pl[ReferenceFilePath] = save_reference(pl, './reference.hdf5')\n",
    "pl.insert(load_reference)"
   ]
  },
  {
   "cell_type": "code",
   "execution_count": null,
   "id": "5a220b29-5115-4594-9c75-ed0f34be74f7",
   "metadata": {},
   "outputs": [],
   "source": [
    "pl[QBins] = sc.geomspace(dim='Q', start=0.00505, stop=2.93164766e-01, num=391, unit='1/angstrom')\n",
    "\n",
    "for i in range(608, 614):\n",
    "    print(i, '...', end='')\n",
    "    pl[PoochFilename[Sample]] = f\"amor2023n000{i}.hdf\"\n",
    "    pl.compute(orso.OrsoIofQDataset).save(f'raw/ess-{i}.ort')\n",
    "    print('Done!')\n"
   ]
  },
  {
   "cell_type": "code",
   "execution_count": null,
   "id": "8e248ada-0db0-4e9e-a208-64e2ff74c7bb",
   "metadata": {},
   "outputs": [],
   "source": [
    "fig, axs = plt.subplots(3, 2, figsize=(12, 12))\n",
    "\n",
    "for ax, i in zip(axs.ravel(), range(608, 614)):\n",
    "\n",
    "    d = orsopy.fileio.load_orso(f'raw/{i}.Rqz.ort')[0].data\n",
    "    ax.errorbar(d[:, 0], d[:, 1], yerr=d[:, 2], label='PSI Amor software')\n",
    "\n",
    "    d = orsopy.fileio.load_orso(f'raw/ess-{i}.ort')[0].data\n",
    "    d[d[:, 1] == 0, 1:3] = float('nan')\n",
    "    ax.errorbar(d[:, 0], d[:, 1], yerr=d[:, 2], label='ESS Reflectometry')\n",
    "    ax.set_yscale('log')\n",
    "    ax.set_ylim([1e-4, None])\n",
    "    ax.legend()\n",
    "    ax.set_title(f'amor2023n000{i}')\n",
    "    ax.set_xlabel('Q [1/A]')\n",
    "    ax.set_ylabel('Reflectivity')\n",
    "\n",
    "plt.tight_layout()"
   ]
  }
 ],
 "metadata": {
  "kernelspec": {
   "display_name": "Python 3 (ipykernel)",
   "language": "python",
   "name": "python3"
  },
  "language_info": {
   "codemirror_mode": {
    "name": "ipython",
    "version": 3
   },
   "file_extension": ".py",
   "mimetype": "text/x-python",
   "name": "python",
   "nbconvert_exporter": "python",
   "pygments_lexer": "ipython3",
   "version": "3.10.13"
  }
 },
 "nbformat": 4,
 "nbformat_minor": 5
}
