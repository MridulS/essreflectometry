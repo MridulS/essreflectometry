{
 "cells": [
  {
   "cell_type": "code",
   "execution_count": null,
   "id": "9aaa5e0c-def6-4da5-9f63-b4c72a0de8f1",
   "metadata": {},
   "outputs": [],
   "source": [
    "import orsopy\n",
    "import matplotlib.pyplot as plt\n",
    "\n",
    "import scipp as sc\n",
    "import plopp as pp\n",
    "import sciline\n",
    "from ess import amor\n",
    "from ess.reflectometry.types import *\n",
    "from ess.amor.types import ChopperPhase"
   ]
  },
  {
   "cell_type": "markdown",
   "id": "f9f28ab3-b9fd-4cfd-88bd-d290ea5cdf4f",
   "metadata": {},
   "source": [
    "## Recreate reference files using Jochens Amor data reduction software\n",
    "\n",
    "#### step 1\n",
    "```\n",
    "%%bash\n",
    "git clone https://github.com/jochenstahn/amor.git\n",
    "wget -P raw https://public.esss.dk/groups/scipp/ess/amor/1/amor2023n000{608..614}.hdf\n",
    "```\n",
    "\n",
    "#### step 2\n",
    "```\n",
    "%%bash\n",
    "args='-Y 2023 -d raw -n 614 -m 0.05 -co -7.5 -of ort'\n",
    "\n",
    "rm raw/614.norm\n",
    "python amor/neos.py $args -f 614\n",
    "\n",
    "for i in `seq 608 613`\n",
    "do\n",
    "    python amor/neos.py $args -f $i -o $i $args \n",
    "done\n",
    "```"
   ]
  },
  {
   "cell_type": "markdown",
   "id": "a1d7fc35-d958-44ce-83a5-b8d877c47735",
   "metadata": {},
   "source": [
    "## Run essreflectometry on the same files"
   ]
  },
  {
   "cell_type": "code",
   "execution_count": null,
   "id": "fccf8385-b2ec-4c14-990f-9083a89f46a2",
   "metadata": {},
   "outputs": [],
   "source": [
    "pl = sciline.Pipeline(\n",
    "    (*amor.providers, *amor.data.providers),\n",
    "    params=amor.default_parameters,\n",
    ")\n",
    "\n",
    "pl[SampleSize[Sample]] = sc.scalar(10.0, unit='mm')\n",
    "pl[SampleSize[Reference]] = sc.scalar(10.0, unit='mm')\n",
    "pl[ChopperPhase[Sample]] = sc.scalar(-7.5, unit='deg')\n",
    "\n",
    "# In Jochens workflow:\n",
    "#    * divergence mask: [-0.7, 0.7]\n",
    "#    * note, divergence relative to beam center\n",
    "pl[WavelengthBins] = sc.geomspace('wavelength', 2.8, 12.5, 300, unit='angstrom')\n",
    "pl[QBins] = sc.geomspace(\n",
    "    dim='Q', start=0.00505, stop=2.93164766e-01, num=391, unit='1/angstrom'\n",
    ")\n",
    "pl[YIndexLimits] = sc.scalar(11, unit=None), sc.scalar(41, unit=None)\n",
    "pl[ZIndexLimits] = sc.scalar(80, unit=None), sc.scalar(370, unit=None)\n",
    "\n",
    "# Chopper phase value in the file is wrong, so we set it manually\n",
    "pl[ChopperPhase[Reference]] = sc.scalar(-7.5, unit='deg')\n",
    "# The sample rotation value in the file is slightly off, so we set it manually\n",
    "pl[SampleRotation[Reference]] = sc.scalar(0.65, unit='deg')\n",
    "pl[TutorialFilename[Reference]] = \"amor2023n000614.hdf\"\n",
    "\n",
    "reference_result = pl.compute(IdealReferenceIntensity)\n",
    "# Set the result back onto the pipeline to cache it\n",
    "pl[IdealReferenceIntensity] = reference_result"
   ]
  },
  {
   "cell_type": "code",
   "execution_count": null,
   "id": "5a220b29-5115-4594-9c75-ed0f34be74f7",
   "metadata": {},
   "outputs": [],
   "source": [
    "mu = {\n",
    "    '608': 0.8,\n",
    "    '609': 2.2,\n",
    "    '610': 3.6,\n",
    "    '611': 5.0,\n",
    "    '612': 0.6,\n",
    "    '613': 0.6,\n",
    "}\n",
    "\n",
    "results = sc.DataGroup({'ess': sc.DataGroup(), 'psi': sc.DataGroup()})\n",
    "\n",
    "# ESS results\n",
    "for key, angle in mu.items():\n",
    "    print(key, '... ', end='')\n",
    "    pl[SampleRotation[Sample]] = sc.scalar(angle + 0.05, unit='deg')\n",
    "    pl[TutorialFilename[Sample]] = f\"amor2023n000{key}.hdf\"\n",
    "    da = pl.compute(NormalizedIofQ).hist()\n",
    "    da.coords['Q'] = sc.midpoints(da.coords['Q'], dim='Q')\n",
    "    results['ess'][key] = da\n",
    "    print('Done!')"
   ]
  },
  {
   "cell_type": "code",
   "execution_count": null,
   "id": "9311bc67-6edf-4f90-9280-f4bee8df9da3",
   "metadata": {},
   "outputs": [],
   "source": [
    "# PSI results\n",
    "for key, angle in mu.items():\n",
    "    d = orsopy.fileio.load_orso(amor.data.get_path(f'{key}.Rqz.ort'))[0].data\n",
    "    y = sc.array(dims=['Q'], values=d[:, 1], variances=d[:, 2] ** 2)\n",
    "    results['psi'][key] = sc.DataArray(\n",
    "        data=y, coords={'Q': sc.array(dims=['Q'], values=d[:, 0], unit='1/angstrom')}\n",
    "    )"
   ]
  },
  {
   "cell_type": "markdown",
   "id": "64b685cb-654e-46a5-9eae-b9bf76dadb8d",
   "metadata": {},
   "source": [
    "## Plot reflectivity curve comparison"
   ]
  },
  {
   "cell_type": "code",
   "execution_count": null,
   "id": "8e248ada-0db0-4e9e-a208-64e2ff74c7bb",
   "metadata": {},
   "outputs": [],
   "source": [
    "fig, axs = plt.subplots(3, 2, figsize=(12, 12))\n",
    "\n",
    "for ax, (key, angle) in zip(axs.ravel(), mu.items()):\n",
    "    pp.plot(\n",
    "        {\n",
    "            facility: results[facility][key][results[facility][key].data > 0.0]\n",
    "            for facility in results\n",
    "        },\n",
    "        ax=ax,\n",
    "        norm='log',\n",
    "        ls='solid',\n",
    "        marker=None,\n",
    "        vmin=1.0e-4,\n",
    "        title=f'Angle: {angle} deg',\n",
    "    )\n",
    "\n",
    "fig.tight_layout()"
   ]
  },
  {
   "cell_type": "markdown",
   "id": "9d97eff4-77cf-4ea1-8be7-1390bebfcb84",
   "metadata": {},
   "source": [
    "## Overlay curves from same sample at different angle, should be on top of each other"
   ]
  },
  {
   "cell_type": "code",
   "execution_count": null,
   "id": "4758e245-c47a-454c-9788-97b05b49f356",
   "metadata": {},
   "outputs": [],
   "source": [
    "fig, axs = plt.subplots(1, 2, figsize=(12, 4))\n",
    "\n",
    "for ax, (facility, res) in zip(axs.ravel(), results.items()):\n",
    "    pp.plot(\n",
    "        {k: v for k, v in list(res.items())[:4]},  # First 4 curves\n",
    "        ax=ax,\n",
    "        norm='log',\n",
    "        ls='solid',\n",
    "        marker=None,\n",
    "        vmin=1.0e-4,\n",
    "        title=facility,\n",
    "    )"
   ]
  }
 ],
 "metadata": {
  "kernelspec": {
   "display_name": "Python 3 (ipykernel)",
   "language": "python",
   "name": "python3"
  },
  "language_info": {
   "codemirror_mode": {
    "name": "ipython",
    "version": 3
   },
   "file_extension": ".py",
   "mimetype": "text/x-python",
   "name": "python",
   "nbconvert_exporter": "python",
   "pygments_lexer": "ipython3"
  }
 },
 "nbformat": 4,
 "nbformat_minor": 5
}
